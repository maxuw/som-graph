{
 "cells": [
  {
   "cell_type": "code",
   "execution_count": 1,
   "metadata": {},
   "outputs": [],
   "source": [
    "import torch"
   ]
  },
  {
   "cell_type": "code",
   "execution_count": 2,
   "metadata": {},
   "outputs": [],
   "source": [
    "# import numpy as np\n",
    "import matplotlib.pyplot as plt"
   ]
  },
  {
   "cell_type": "code",
   "execution_count": 3,
   "metadata": {},
   "outputs": [],
   "source": [
    "from map_class import MapClass\n",
    "from graph_class import Graph"
   ]
  },
  {
   "cell_type": "code",
   "execution_count": 4,
   "metadata": {},
   "outputs": [],
   "source": [
    "#Training inputs for RGBcolors\n",
    "rgb_colors = [[0., 0., 0.],\n",
    "      [0., 0., 1.],\n",
    "      [0., 0., 0.5],\n",
    "      [0.125, 0.529, 1.0],\n",
    "      [0.33, 0.4, 0.67],\n",
    "      [0.6, 0.5, 1.0],\n",
    "      [0., 1., 0.],\n",
    "      [1., 0., 0.],\n",
    "      [0., 1., 1.],\n",
    "      [1., 0., 1.],\n",
    "      [1., 1., 0.],\n",
    "      [1., 1., 1.],\n",
    "      [.33, .33, .33],\n",
    "      [.5, .5, .5],\n",
    "      [.66, .66, .66]]"
   ]
  },
  {
   "cell_type": "code",
   "execution_count": 5,
   "metadata": {},
   "outputs": [],
   "source": [
    "rgb_lables = \\\n",
    "    ['black', 'blue', 'darkblue', 'skyblue',\n",
    "     'greyblue', 'lilac', 'green', 'red',\n",
    "     'cyan', 'violet', 'yellow', 'white',\n",
    "     'darkgrey', 'mediumgrey', 'lightgrey']"
   ]
  },
  {
   "cell_type": "code",
   "execution_count": null,
   "metadata": {},
   "outputs": [],
   "source": []
  },
  {
   "cell_type": "code",
   "execution_count": 25,
   "metadata": {
    "lines_to_next_cell": 2
   },
   "outputs": [],
   "source": [
    "# Network configuration\n",
    "\n",
    "data = rgb_colors\n",
    "data_lables = rgb_lables\n",
    "batch_size = 2\n",
    "\n",
    "\n",
    "sigma = 5\n",
    "\n",
    "# for now amount_verticies has to be a multiplication of length and width\n",
    "length = 20\n",
    "width = 20\n",
    "number_epochs = 1000\n",
    "shuffle = True\n",
    "\n",
    "learning_rate = 0.01"
   ]
  },
  {
   "cell_type": "code",
   "execution_count": null,
   "metadata": {},
   "outputs": [],
   "source": []
  },
  {
   "cell_type": "code",
   "execution_count": 7,
   "metadata": {},
   "outputs": [],
   "source": [
    "#buildings data\n",
    "building_sizes = [[0.1, 0.3], [0.1, 0.2], [1., 1.], [0.125, 0.2], [0.529, 0.12], [1.0, 0.3], [0.33, 0.3], \n",
    "                  [0.4, 0.4], [0.67, 0.3], [.33, 0.7], [.5, 0.1]]"
   ]
  },
  {
   "cell_type": "code",
   "execution_count": 8,
   "metadata": {},
   "outputs": [],
   "source": [
    "building_labels = building_sizes"
   ]
  },
  {
   "cell_type": "code",
   "execution_count": null,
   "metadata": {},
   "outputs": [],
   "source": []
  },
  {
   "cell_type": "code",
   "execution_count": 9,
   "metadata": {},
   "outputs": [],
   "source": [
    "#Training inputs for RGBcolors\n",
    "gray_colors = [[0.1], [0.], [1.], [0.125], [0.529], [0.9], [0.33], [0.4], [0.67], [.33], [.5]]"
   ]
  },
  {
   "cell_type": "code",
   "execution_count": 10,
   "metadata": {},
   "outputs": [],
   "source": [
    "gray_colors_lables = [[0.1], [\"black\"], [\"white\"], [0.125], [0.529], [0.9], [0.33], [0.4], [0.67], [.33], [.5]]"
   ]
  },
  {
   "cell_type": "code",
   "execution_count": 11,
   "metadata": {},
   "outputs": [],
   "source": [
    "# Graph setup"
   ]
  },
  {
   "cell_type": "code",
   "execution_count": 12,
   "metadata": {},
   "outputs": [],
   "source": [
    "# for now amount_verticies has to be a multiplication of length and width\n",
    "amount_nodes = 400\n",
    "percent_edges = 0.5"
   ]
  },
  {
   "cell_type": "code",
   "execution_count": 13,
   "metadata": {},
   "outputs": [],
   "source": [
    "# using graph class to generate matrix\n",
    "\n",
    "graph1 = Graph()"
   ]
  },
  {
   "cell_type": "code",
   "execution_count": 14,
   "metadata": {},
   "outputs": [
    {
     "name": "stdout",
     "output_type": "stream",
     "text": [
      "80000\n"
     ]
    }
   ],
   "source": [
    "# matrix genaration\n",
    "\n",
    "matrix1 = graph1.create_matrix(amount_nodes)\n",
    "edges1 = graph1.generate_edges(amount_nodes, percent_edges)\n",
    "matrix1 = graph1.add_edges(matrix1, edges1)\n",
    "list_edges = graph1.make_list_edges_distances(matrix1)\n",
    "netxgraph1 = graph1.build_networkx_graph(list_edges)"
   ]
  },
  {
   "cell_type": "code",
   "execution_count": 15,
   "metadata": {},
   "outputs": [],
   "source": [
    "# matrix1"
   ]
  },
  {
   "cell_type": "code",
   "execution_count": 16,
   "metadata": {},
   "outputs": [
    {
     "data": {
      "text/plain": [
       "tensor([[ 0.0000,  1.0000,  2.0000,  ..., 25.4951, 26.1725, 26.8701],\n",
       "        [ 1.0000,  0.0000,  1.0000,  ..., 24.8395, 25.4951, 26.1725],\n",
       "        [ 2.0000,  1.0000,  0.0000,  ..., 24.2074, 24.8395, 25.4951],\n",
       "        ...,\n",
       "        [25.4951, 24.8395, 24.2074,  ...,  0.0000,  1.0000,  2.0000],\n",
       "        [26.1725, 25.4951, 24.8395,  ...,  1.0000,  0.0000,  1.0000],\n",
       "        [26.8701, 26.1725, 25.4951,  ...,  2.0000,  1.0000,  0.0000]])"
      ]
     },
     "execution_count": 16,
     "metadata": {},
     "output_type": "execute_result"
    }
   ],
   "source": [
    "# This initializes regular SOM grid matrix, it needs to be passes instead of matrix1 for it to work\n",
    "# Also one needs to experiment with sigma to achieve good results learning rate\n",
    "matrix2 = graph1.standard_som_distance_matrix(length, width)\n",
    "matrix2\n",
    "\n"
   ]
  },
  {
   "cell_type": "code",
   "execution_count": null,
   "metadata": {},
   "outputs": [],
   "source": []
  },
  {
   "cell_type": "code",
   "execution_count": 26,
   "metadata": {},
   "outputs": [
    {
     "name": "stdout",
     "output_type": "stream",
     "text": [
      "3\n",
      "15\n",
      "sigma:  5\n",
      "sigma2:  25\n"
     ]
    }
   ],
   "source": [
    "map1 = MapClass(data, length, width, learning_rate, number_epochs, matrix2, sigma, data_lables, batch_size, shuffle, netxgraph1)"
   ]
  },
  {
   "cell_type": "code",
   "execution_count": 27,
   "metadata": {},
   "outputs": [],
   "source": [
    "# ### Drawing configuration\n",
    "\n",
    "# drawtype=\"rbg\" tries to draw colors on map - needs an input data with 3 vectors\n",
    "\n",
    "# drawtype=\"black-white\" draws black-white\n",
    "# drawtype=\"networkx\" graph drawing using the networkx library\n",
    "# drawtype=\"None\" - default draws empty space\n",
    "\n",
    "# Also there is networkx graph drawing\n",
    "\n",
    "# labels=True or False draws labels on the map... labels are necessary...\n",
    "\n",
    "\n",
    "# draw_every_epoch=0 Don't draw anything\n",
    "# draw_every_epoch=10 draw every 10 epochs"
   ]
  },
  {
   "cell_type": "code",
   "execution_count": 28,
   "metadata": {},
   "outputs": [
    {
     "data": {
      "text/plain": [
       "tensor([[1.0000e+00, 9.6079e-01, 8.5214e-01,  ..., 5.1091e-12, 1.2599e-12,\n",
       "         2.8680e-13],\n",
       "        [9.6079e-01, 1.0000e+00, 9.6079e-01,  ..., 1.9125e-11, 5.1091e-12,\n",
       "         1.2599e-12],\n",
       "        [8.5214e-01, 9.6079e-01, 1.0000e+00,  ..., 6.6090e-11, 1.9125e-11,\n",
       "         5.1091e-12],\n",
       "        ...,\n",
       "        [5.1091e-12, 1.9125e-11, 6.6090e-11,  ..., 1.0000e+00, 9.6079e-01,\n",
       "         8.5214e-01],\n",
       "        [1.2599e-12, 5.1091e-12, 1.9125e-11,  ..., 9.6079e-01, 1.0000e+00,\n",
       "         9.6079e-01],\n",
       "        [2.8680e-13, 1.2599e-12, 5.1091e-12,  ..., 8.5214e-01, 9.6079e-01,\n",
       "         1.0000e+00]])"
      ]
     },
     "execution_count": 28,
     "metadata": {},
     "output_type": "execute_result"
    }
   ],
   "source": [
    "map1.impact_matrix"
   ]
  },
  {
   "cell_type": "code",
   "execution_count": null,
   "metadata": {},
   "outputs": [],
   "source": [
    "labels=True\n",
    "drawtype = \"rbg\""
   ]
  },
  {
   "cell_type": "code",
   "execution_count": null,
   "metadata": {},
   "outputs": [],
   "source": [
    "# Going through a large cycle combining of number of iteration whole cycles\n",
    "\n",
    "map1.large_cycle(draw_every_epoch=100, drawtype=drawtype)"
   ]
  },
  {
   "cell_type": "code",
   "execution_count": null,
   "metadata": {},
   "outputs": [],
   "source": [
    "# Drawing all the history\n",
    "plt.rcParams['figure.dpi'] = 150\n",
    "map1.draw_all(drawtype, labels=labels)"
   ]
  },
  {
   "cell_type": "code",
   "execution_count": null,
   "metadata": {},
   "outputs": [],
   "source": [
    "map1.draw_all(drawtype=\"networkx\", labels=labels)"
   ]
  },
  {
   "cell_type": "code",
   "execution_count": null,
   "metadata": {},
   "outputs": [],
   "source": []
  }
 ],
 "metadata": {
  "jupytext": {
   "formats": "ipynb,py:light"
  },
  "kernelspec": {
   "display_name": "Python 3",
   "language": "python",
   "name": "python3"
  },
  "language_info": {
   "codemirror_mode": {
    "name": "ipython",
    "version": 3
   },
   "file_extension": ".py",
   "mimetype": "text/x-python",
   "name": "python",
   "nbconvert_exporter": "python",
   "pygments_lexer": "ipython3",
   "version": "3.7.3"
  }
 },
 "nbformat": 4,
 "nbformat_minor": 2
}
