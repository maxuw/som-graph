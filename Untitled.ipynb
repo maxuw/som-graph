{
 "cells": [
  {
   "cell_type": "code",
   "execution_count": 1,
   "metadata": {},
   "outputs": [],
   "source": [
    "from graph_class import Graph"
   ]
  },
  {
   "cell_type": "code",
   "execution_count": 27,
   "metadata": {},
   "outputs": [],
   "source": [
    "shape_map_human_2 = \\\n",
    "    [\n",
    "    [0,0,0,1,0,0,0,0,0,0,0,0,0,0,0,0,0,0,0,0],\n",
    "    [0,0,0,0,0,0,0,0,1,1,1,0,0,0,0,0,0,0,0,0],\n",
    "    [0,0,0,0,0,0,1,1,1,1,1,1,0,0,0,0,0,0,0,0],\n",
    "    [0,0,0,0,0,0,1,1,1,1,1,1,0,0,0,0,0,0,0,0],\n",
    "    [0,0,1,1,0,0,1,1,1,1,1,1,0,0,0,0,0,0,0,0],\n",
    "    [0,0,1,1,0,0,0,1,1,1,1,0,0,0,0,0,0,0,0,0],\n",
    "    [0,0,1,1,0,0,0,0,1,1,0,0,0,0,0,0,0,0,0,0],\n",
    "    [0,0,1,1,1,1,1,1,1,1,1,0,0,0,0,0,0,0,0,0],\n",
    "    [0,0,1,1,1,1,1,1,1,1,1,1,1,1,1,1,1,1,0,0],\n",
    "    [0,0,0,0,0,0,1,1,1,1,1,1,1,1,1,1,1,1,0,0],\n",
    "    [0,0,0,0,0,0,1,1,1,1,1,1,0,0,0,0,1,1,0,0],\n",
    "    [0,0,0,0,0,0,1,1,1,1,1,1,0,0,0,0,1,1,0,0],\n",
    "    [0,0,0,0,0,0,1,1,0,0,1,1,0,0,0,0,1,1,0,0],\n",
    "    [0,0,0,0,0,0,1,1,0,0,1,0,1,0,0,0,0,0,0,0],\n",
    "    [0,0,0,0,0,0,1,1,0,0,1,1,0,0,0,0,0,0,0,0],\n",
    "    [0,0,0,0,0,0,1,1,0,0,1,1,0,0,0,0,0,0,0,0],\n",
    "    [0,0,0,0,0,0,1,1,0,0,1,1,0,0,0,0,0,0,0,0],\n",
    "    [0,0,0,0,0,0,1,1,0,0,1,1,0,0,0,0,0,0,0,0],\n",
    "    [0,0,0,0,0,0,1,1,0,0,1,1,0,0,0,0,0,0,0,0],\n",
    "    [0,0,0,0,0,0,1,1,0,0,1,1,0,0,0,0,0,0,0,0]]"
   ]
  },
  {
   "cell_type": "code",
   "execution_count": 25,
   "metadata": {},
   "outputs": [
    {
     "data": {
      "text/plain": [
       "20"
      ]
     },
     "execution_count": 25,
     "metadata": {},
     "output_type": "execute_result"
    }
   ],
   "source": [
    "len(    [\n",
    "    [0,0,0,1,0,0,0,0,0,0,0,0,0,0,0,0,0,0,0,0],\n",
    "    [1,0,1,1,1,0,1,0,0,0,0,0,0,0,0,0,0,0,0,0],\n",
    "    [1,0,1,1,1,0,1,0,0,0,0,0,0,0,0,0,0,0,0,0],\n",
    "    [1,0,1,1,1,0,1,0,0,0,0,0,0,0,0,0,0,0,0,0],\n",
    "    [1,0,1,1,1,0,1,0,0,0,0,0,0,0,0,0,0,0,0,0],\n",
    "    [1,0,1,1,1,0,1,0,0,0,0,0,0,0,0,0,0,0,0,0],\n",
    "    [1,0,1,1,1,0,1,0,0,0,0,0,0,0,0,0,0,0,0,0],\n",
    "    [1,0,1,1,1,0,1,0,0,0,0,0,0,0,0,0,0,0,0,0],\n",
    "    [1,0,1,1,1,0,1,0,0,0,0,0,0,0,0,0,0,0,0,0],\n",
    "    [1,0,1,1,1,0,1,0,0,0,0,0,0,0,0,0,0,0,0,0],\n",
    "    [1,0,1,1,1,0,1,0,0,0,0,0,0,0,0,0,0,0,0,0],\n",
    "    [1,0,1,1,1,0,1,0,0,0,0,0,0,0,0,0,0,0,0,0],\n",
    "    [1,0,1,1,1,0,1,0,0,0,0,0,0,0,0,0,0,0,0,0],\n",
    "    [1,0,1,1,1,0,1,0,0,0,0,0,0,0,0,0,0,0,0,0],\n",
    "    [1,0,1,1,1,0,1,0,0,0,0,0,0,0,0,0,0,0,0,0],\n",
    "    [1,0,1,1,1,0,1,0,0,0,0,0,0,0,0,0,0,0,0,0],\n",
    "    [1,0,1,1,1,0,1,0,0,0,0,0,0,0,0,0,0,0,0,0],\n",
    "    [1,0,1,1,1,0,1,0,0,0,0,0,0,0,0,0,0,0,0,0],\n",
    "    [1,0,1,1,1,0,1,0,0,0,0,0,0,0,0,0,0,0,0,0],\n",
    "    [1,0,1,1,1,0,1,0,0,0,0,0,0,0,0,0,0,0,0,0]])"
   ]
  },
  {
   "cell_type": "code",
   "execution_count": 23,
   "metadata": {},
   "outputs": [
    {
     "data": {
      "text/plain": [
       "20"
      ]
     },
     "execution_count": 23,
     "metadata": {},
     "output_type": "execute_result"
    }
   ],
   "source": [
    "len([0,0,0,1,0,0,0,0,0,0,0,0,0,0,0,0,0,0,0,0])"
   ]
  },
  {
   "cell_type": "code",
   "execution_count": 3,
   "metadata": {},
   "outputs": [],
   "source": [
    "graph1 = Graph()"
   ]
  },
  {
   "cell_type": "code",
   "execution_count": 4,
   "metadata": {},
   "outputs": [
    {
     "data": {
      "text/plain": [
       "3"
      ]
     },
     "execution_count": 4,
     "metadata": {},
     "output_type": "execute_result"
    }
   ],
   "source": [
    "graph1.search(0,2, \"r\", shape_map_human)"
   ]
  },
  {
   "cell_type": "code",
   "execution_count": 5,
   "metadata": {},
   "outputs": [
    {
     "data": {
      "text/plain": [
       "[False, False, 3, 9]"
      ]
     },
     "execution_count": 5,
     "metadata": {},
     "output_type": "execute_result"
    }
   ],
   "source": [
    "graph1.look_around(0,2, shape_map_human)"
   ]
  },
  {
   "cell_type": "code",
   "execution_count": 6,
   "metadata": {},
   "outputs": [
    {
     "data": {
      "text/plain": [
       "9"
      ]
     },
     "execution_count": 6,
     "metadata": {},
     "output_type": "execute_result"
    }
   ],
   "source": [
    "graph1.location_special_map(2, shape_map_human)"
   ]
  },
  {
   "cell_type": "code",
   "execution_count": 7,
   "metadata": {},
   "outputs": [],
   "source": [
    "# def look_around_by_node_number(node_number, map_):\n",
    "#     location_map = graph1.location_special_map(node_number, map_)\n",
    "#     print(\"location map: \", location_map)\n",
    "#     length, width = graph1.return_axis(location_map, map_)\n",
    "#     print(\"length, width: \", length, width)\n",
    "#     return graph1.look_around(length, width, shape_map_human)"
   ]
  },
  {
   "cell_type": "code",
   "execution_count": 8,
   "metadata": {},
   "outputs": [],
   "source": [
    "# look_around_by_node_number(0, shape_map_human)"
   ]
  },
  {
   "cell_type": "code",
   "execution_count": 9,
   "metadata": {},
   "outputs": [],
   "source": [
    "# def connect_with_around(node_number, map_, matrix):\n",
    "#     print(graph1)\n",
    "#     list_connections = graph1.look_around_by_node_number(node_number, map_)\n",
    "    \n",
    "#     for item in list_connections:\n",
    "#         if item != False:\n",
    "#             target_node = graph1.get_node(item, map_)\n",
    "#             print(target_node)\n",
    "#             graph1.add_edge(matrix, node_number, target_node, 0.25)\n",
    "            "
   ]
  },
  {
   "cell_type": "code",
   "execution_count": 10,
   "metadata": {},
   "outputs": [
    {
     "data": {
      "text/plain": [
       "<bound method Graph.look_around_by_node_number of <graph_class.Graph object at 0x7f55d4466b38>>"
      ]
     },
     "execution_count": 10,
     "metadata": {},
     "output_type": "execute_result"
    }
   ],
   "source": [
    "graph1.look_around_by_node_number"
   ]
  },
  {
   "cell_type": "code",
   "execution_count": null,
   "metadata": {},
   "outputs": [],
   "source": []
  },
  {
   "cell_type": "code",
   "execution_count": 11,
   "metadata": {},
   "outputs": [
    {
     "data": {
      "text/plain": [
       "<graph_class.Graph at 0x7f55d4466b38>"
      ]
     },
     "execution_count": 11,
     "metadata": {},
     "output_type": "execute_result"
    }
   ],
   "source": [
    "graph1"
   ]
  },
  {
   "cell_type": "code",
   "execution_count": null,
   "metadata": {},
   "outputs": [],
   "source": []
  },
  {
   "cell_type": "code",
   "execution_count": 12,
   "metadata": {},
   "outputs": [],
   "source": [
    "amount_nodes = graph1.count_ones(shape_map_human)"
   ]
  },
  {
   "cell_type": "code",
   "execution_count": 13,
   "metadata": {},
   "outputs": [],
   "source": [
    "matrix_human = graph1.create_matrix(amount_nodes)"
   ]
  },
  {
   "cell_type": "code",
   "execution_count": 14,
   "metadata": {},
   "outputs": [
    {
     "data": {
      "text/plain": [
       "tensor([1., 1., 1., 0., 1., 1., 1., 1., 1., 1., 1., 1., 1., 1., 1., 1., 1., 1.,\n",
       "        1., 1., 1., 1., 1., 1., 1.])"
      ]
     },
     "execution_count": 14,
     "metadata": {},
     "output_type": "execute_result"
    }
   ],
   "source": [
    "matrix_human[3]"
   ]
  },
  {
   "cell_type": "code",
   "execution_count": 15,
   "metadata": {},
   "outputs": [
    {
     "name": "stdout",
     "output_type": "stream",
     "text": [
      "int\n"
     ]
    }
   ],
   "source": [
    "if type(1) == int:\n",
    "    print(\"int\")"
   ]
  },
  {
   "cell_type": "code",
   "execution_count": 16,
   "metadata": {},
   "outputs": [
    {
     "data": {
      "text/plain": [
       "[False, False, False, 20]"
      ]
     },
     "execution_count": 16,
     "metadata": {},
     "output_type": "execute_result"
    }
   ],
   "source": [
    "graph1.look_around(1,6, shape_map_human)"
   ]
  },
  {
   "cell_type": "code",
   "execution_count": 17,
   "metadata": {},
   "outputs": [],
   "source": [
    "# graph1.connect_with_around(2, shape_map_human, matrix_human)"
   ]
  },
  {
   "cell_type": "code",
   "execution_count": 18,
   "metadata": {},
   "outputs": [],
   "source": [
    "# def add_small_distance_to_nearby_nodes(shape_map_human, distance_matrix):\n",
    "#     for i in range(len(distance_matrix)):\n",
    "#         graph1.connect_with_around(i, shape_map_human, distance_matrix)"
   ]
  },
  {
   "cell_type": "code",
   "execution_count": 19,
   "metadata": {},
   "outputs": [
    {
     "name": "stdout",
     "output_type": "stream",
     "text": [
      "connecting  0   3\n",
      "connecting  1   6\n",
      "connecting  2   3\n",
      "connecting  3   2\n",
      "connecting  3   0\n",
      "connecting  3   4\n",
      "connecting  3   7\n",
      "connecting  4   3\n",
      "connecting  5   8\n",
      "connecting  6   1\n",
      "connecting  6   9\n",
      "connecting  7   3\n",
      "connecting  7   12\n",
      "connecting  8   5\n",
      "connecting  8   15\n",
      "connecting  9   6\n",
      "connecting  9   10\n",
      "connecting  10   9\n",
      "connecting  10   11\n",
      "connecting  11   10\n",
      "connecting  11   12\n",
      "connecting  11   16\n",
      "connecting  12   11\n",
      "connecting  12   7\n",
      "connecting  12   13\n",
      "connecting  12   17\n",
      "connecting  13   12\n",
      "connecting  13   14\n",
      "connecting  13   18\n",
      "connecting  14   13\n",
      "connecting  14   15\n",
      "connecting  15   14\n",
      "connecting  15   8\n",
      "connecting  16   11\n",
      "connecting  16   17\n",
      "connecting  16   19\n",
      "connecting  17   16\n",
      "connecting  17   12\n",
      "connecting  17   18\n",
      "connecting  18   17\n",
      "connecting  18   13\n",
      "connecting  18   20\n",
      "connecting  19   16\n",
      "connecting  19   21\n",
      "connecting  20   18\n",
      "connecting  20   22\n",
      "connecting  21   19\n",
      "connecting  21   23\n",
      "connecting  22   20\n",
      "connecting  22   24\n",
      "connecting  23   21\n",
      "connecting  24   22\n"
     ]
    }
   ],
   "source": [
    "new_matrix = graph1.add_small_distance_to_nearby_nodes(shape_map_human, matrix_human)"
   ]
  },
  {
   "cell_type": "code",
   "execution_count": 20,
   "metadata": {},
   "outputs": [
    {
     "data": {
      "text/plain": [
       "25"
      ]
     },
     "execution_count": 20,
     "metadata": {},
     "output_type": "execute_result"
    }
   ],
   "source": [
    "len(new_matrix)"
   ]
  },
  {
   "cell_type": "code",
   "execution_count": 21,
   "metadata": {},
   "outputs": [
    {
     "data": {
      "text/plain": [
       "tensor([0.2500, 1.0000, 0.2500, 0.0000, 0.2500, 1.0000, 1.0000, 0.2500, 1.0000,\n",
       "        1.0000, 1.0000, 1.0000, 1.0000, 1.0000, 1.0000, 1.0000, 1.0000, 1.0000,\n",
       "        1.0000, 1.0000, 1.0000, 1.0000, 1.0000, 1.0000, 1.0000])"
      ]
     },
     "execution_count": 21,
     "metadata": {},
     "output_type": "execute_result"
    }
   ],
   "source": [
    "new_matrix[3]"
   ]
  },
  {
   "cell_type": "code",
   "execution_count": 22,
   "metadata": {},
   "outputs": [],
   "source": [
    "# matrix_human"
   ]
  },
  {
   "cell_type": "code",
   "execution_count": null,
   "metadata": {},
   "outputs": [],
   "source": []
  }
 ],
 "metadata": {
  "kernelspec": {
   "display_name": "Python 3",
   "language": "python",
   "name": "python3"
  },
  "language_info": {
   "codemirror_mode": {
    "name": "ipython",
    "version": 3
   },
   "file_extension": ".py",
   "mimetype": "text/x-python",
   "name": "python",
   "nbconvert_exporter": "python",
   "pygments_lexer": "ipython3",
   "version": "3.7.3"
  }
 },
 "nbformat": 4,
 "nbformat_minor": 2
}
