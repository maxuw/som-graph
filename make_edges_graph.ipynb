{
 "cells": [
  {
   "cell_type": "code",
   "execution_count": 1,
   "metadata": {},
   "outputs": [],
   "source": [
    "import torch"
   ]
  },
  {
   "cell_type": "code",
   "execution_count": 2,
   "metadata": {},
   "outputs": [],
   "source": [
    "# import numpy as np\n",
    "import matplotlib.pyplot as plt"
   ]
  },
  {
   "cell_type": "code",
   "execution_count": 3,
   "metadata": {},
   "outputs": [],
   "source": [
    "from map_class import MapClass\n",
    "from graph_class import Graph"
   ]
  },
  {
   "cell_type": "code",
   "execution_count": 4,
   "metadata": {},
   "outputs": [],
   "source": [
    "#Training inputs for RGBcolors\n",
    "rgb_colors = [[0., 0., 0.],\n",
    "      [0., 0., 1.],\n",
    "      [0., 0., 0.5],\n",
    "      [0.125, 0.529, 1.0],\n",
    "      [0.33, 0.4, 0.67],\n",
    "      [0.6, 0.5, 1.0],\n",
    "      [0., 1., 0.],\n",
    "      [1., 0., 0.],\n",
    "      [0., 1., 1.],\n",
    "      [1., 0., 1.],\n",
    "      [1., 1., 0.],\n",
    "      [1., 1., 1.],\n",
    "      [.33, .33, .33],\n",
    "      [.5, .5, .5],\n",
    "      [.66, .66, .66]]"
   ]
  },
  {
   "cell_type": "code",
   "execution_count": 5,
   "metadata": {},
   "outputs": [],
   "source": [
    "rgb_lables = \\\n",
    "    ['black', 'blue', 'darkblue', 'skyblue',\n",
    "     'greyblue', 'lilac', 'green', 'red',\n",
    "     'cyan', 'violet', 'yellow', 'white',\n",
    "     'darkgrey', 'mediumgrey', 'lightgrey']"
   ]
  },
  {
   "cell_type": "code",
   "execution_count": 6,
   "metadata": {},
   "outputs": [],
   "source": [
    "shape_map_human = \\\n",
    "    [\n",
    "    [0,0,0,1,0,0,0],\n",
    "    [1,0,1,1,1,0,1],\n",
    "    [1,0,0,1,0,0,1],\n",
    "    [1,1,1,1,1,1,1],\n",
    "    [0,0,1,1,1,0,0],\n",
    "    [0,0,1,0,1,0,0],\n",
    "    [0,0,1,0,1,0,0],\n",
    "    [0,0,1,0,1,0,0]]\n",
    "    "
   ]
  },
  {
   "cell_type": "code",
   "execution_count": 30,
   "metadata": {},
   "outputs": [
    {
     "data": {
      "text/plain": [
       "[[0, 0, 0, 1, 0, 0, 0],\n",
       " [1, 0, 1, 1, 1, 0, 1],\n",
       " [1, 0, 0, 1, 0, 0, 1],\n",
       " [1, 1, 1, 1, 1, 1, 1],\n",
       " [0, 0, 1, 1, 1, 0, 0],\n",
       " [0, 0, 1, 0, 1, 0, 0],\n",
       " [0, 0, 1, 0, 1, 0, 0],\n",
       " [0, 0, 1, 0, 1, 0, 0]]"
      ]
     },
     "execution_count": 30,
     "metadata": {},
     "output_type": "execute_result"
    }
   ],
   "source": [
    "special_shape_map"
   ]
  },
  {
   "cell_type": "code",
   "execution_count": 32,
   "metadata": {},
   "outputs": [],
   "source": [
    "list_zeros.append(2)"
   ]
  },
  {
   "cell_type": "code",
   "execution_count": 33,
   "metadata": {},
   "outputs": [
    {
     "data": {
      "text/plain": [
       "[3, 3, 1, 1, 2, 2, 2, 4, 1, 4, 1, 4, 1, 2]"
      ]
     },
     "execution_count": 33,
     "metadata": {},
     "output_type": "execute_result"
    }
   ],
   "source": [
    "list_zeros"
   ]
  },
  {
   "cell_type": "code",
   "execution_count": 34,
   "metadata": {},
   "outputs": [
    {
     "data": {
      "text/plain": [
       "[10, 19, 12, 19, 12, 15, 23, 18, 24, 8, 17, 21, 22, 6, 16]"
      ]
     },
     "execution_count": 34,
     "metadata": {},
     "output_type": "execute_result"
    }
   ],
   "source": [
    "map1.history_classifications[0]"
   ]
  },
  {
   "cell_type": "code",
   "execution_count": 35,
   "metadata": {},
   "outputs": [
    {
     "ename": "SyntaxError",
     "evalue": "unexpected EOF while parsing (<ipython-input-35-45b73705cd36>, line 5)",
     "output_type": "error",
     "traceback": [
      "\u001b[0;36m  File \u001b[0;32m\"<ipython-input-35-45b73705cd36>\"\u001b[0;36m, line \u001b[0;32m5\u001b[0m\n\u001b[0;31m    [0.33, 0.4, 0.67],\u001b[0m\n\u001b[0m                      ^\u001b[0m\n\u001b[0;31mSyntaxError\u001b[0m\u001b[0;31m:\u001b[0m unexpected EOF while parsing\n"
     ]
    }
   ],
   "source": [
    "rgb_colors = [[0., 0., 0.],\n",
    "      [0., 0., 1.],\n",
    "      [0., 0., 0.5],\n",
    "      [0.125, 0.529, 1.0],\n",
    "      [0.33, 0.4, 0.67],"
   ]
  },
  {
   "cell_type": "code",
   "execution_count": null,
   "metadata": {},
   "outputs": [],
   "source": [
    "map1.find_bmu(torch.tensor([0., 0., 0.]))"
   ]
  },
  {
   "cell_type": "code",
   "execution_count": null,
   "metadata": {},
   "outputs": [],
   "source": [
    "map1.find_bmu(torch.tensor([1., 1., 1.]))"
   ]
  },
  {
   "cell_type": "code",
   "execution_count": null,
   "metadata": {},
   "outputs": [],
   "source": [
    "count zeros between beginning and 6'th element"
   ]
  },
  {
   "cell_type": "code",
   "execution_count": null,
   "metadata": {},
   "outputs": [],
   "source": [
    "list_zeros = []\n",
    "counter = 0\n",
    "for i in range(len(special_shape_map)):\n",
    "    for j in range(len(special_shape_map[i])):\n",
    "        print(i, j)\n",
    "        if special_shape_map[i][j] == 1:\n",
    "            "
   ]
  },
  {
   "cell_type": "code",
   "execution_count": null,
   "metadata": {},
   "outputs": [],
   "source": [
    "def count_till_number(num):\n",
    "    counter_1 = 0\n",
    "    counter_0 = 0\n",
    "    for i in range(len(special_shape_map)):\n",
    "        for j in range(len(special_shape_map[i])):\n",
    "#             print(i, j)\n",
    "            \n",
    "            if special_shape_map[i][j] == 1:\n",
    "                \n",
    "                print(counter_1)\n",
    "                if counter_1 == num:\n",
    "                    print(\"return\")\n",
    "                    return counter_0 + counter_1\n",
    "                counter_1 += 1\n",
    "            else:\n",
    "                counter_0 += 1"
   ]
  },
  {
   "cell_type": "code",
   "execution_count": null,
   "metadata": {},
   "outputs": [],
   "source": [
    "count_till_number(1)#white 45"
   ]
  },
  {
   "cell_type": "code",
   "execution_count": null,
   "metadata": {},
   "outputs": [],
   "source": [
    "map1.location_special_map(0)"
   ]
  },
  {
   "cell_type": "code",
   "execution_count": null,
   "metadata": {},
   "outputs": [],
   "source": [
    "[map1.location_special_map(x) for x in map1.history_classifications[0]]"
   ]
  },
  {
   "cell_type": "code",
   "execution_count": null,
   "metadata": {},
   "outputs": [],
   "source": [
    "map1.history_classifications[1]"
   ]
  },
  {
   "cell_type": "code",
   "execution_count": 8,
   "metadata": {
    "lines_to_next_cell": 0
   },
   "outputs": [],
   "source": [
    "# Network configuration\n",
    "\n",
    "data = rgb_colors\n",
    "data_lables = rgb_lables\n",
    "batch_size = 2\n",
    "special_shape_map = shape_map_human\n",
    "\n",
    "\n",
    "sigma = None\n",
    "\n",
    "# for now amount_verticies has to be a multiplication of length and width\n",
    "length = 8\n",
    "width = 7\n",
    "number_epochs = 1000\n",
    "shuffle = True\n",
    "\n",
    "learning_rate = 0.01"
   ]
  },
  {
   "cell_type": "code",
   "execution_count": null,
   "metadata": {},
   "outputs": [],
   "source": []
  },
  {
   "cell_type": "code",
   "execution_count": null,
   "metadata": {},
   "outputs": [],
   "source": []
  },
  {
   "cell_type": "code",
   "execution_count": 9,
   "metadata": {},
   "outputs": [],
   "source": [
    "#buildings data\n",
    "building_sizes = [[0.1, 0.3], [0.1, 0.2], [1., 1.], [0.125, 0.2], [0.529, 0.12], [1.0, 0.3], [0.33, 0.3], \n",
    "                  [0.4, 0.4], [0.67, 0.3], [.33, 0.7], [.5, 0.1]]"
   ]
  },
  {
   "cell_type": "code",
   "execution_count": 10,
   "metadata": {},
   "outputs": [],
   "source": [
    "building_labels = building_sizes"
   ]
  },
  {
   "cell_type": "code",
   "execution_count": null,
   "metadata": {},
   "outputs": [],
   "source": []
  },
  {
   "cell_type": "code",
   "execution_count": 11,
   "metadata": {},
   "outputs": [],
   "source": [
    "#Training inputs for RGBcolors\n",
    "gray_colors = [[0.1], [0.], [1.], [0.125], [0.529], [0.9], [0.33], [0.4], [0.67], [.33], [.5]]"
   ]
  },
  {
   "cell_type": "code",
   "execution_count": 12,
   "metadata": {},
   "outputs": [],
   "source": [
    "gray_colors_lables = [[0.1], [\"black\"], [\"white\"], [0.125], [0.529], [0.9], [0.33], [0.4], [0.67], [.33], [.5]]"
   ]
  },
  {
   "cell_type": "code",
   "execution_count": 13,
   "metadata": {},
   "outputs": [],
   "source": [
    "# Graph setup"
   ]
  },
  {
   "cell_type": "code",
   "execution_count": 14,
   "metadata": {},
   "outputs": [],
   "source": [
    "# for now amount_verticies has to be a multiplication of length and width\n",
    "amount_nodes = 25\n",
    "percent_edges = 0.2"
   ]
  },
  {
   "cell_type": "code",
   "execution_count": 15,
   "metadata": {},
   "outputs": [],
   "source": [
    "# using graph class to generate matrix\n",
    "\n",
    "graph1 = Graph()"
   ]
  },
  {
   "cell_type": "code",
   "execution_count": 16,
   "metadata": {},
   "outputs": [
    {
     "name": "stdout",
     "output_type": "stream",
     "text": [
      "125\n"
     ]
    }
   ],
   "source": [
    "# matrix genaration\n",
    "\n",
    "matrix1 = graph1.create_matrix(amount_nodes)\n",
    "edges1 = graph1.generate_edges(amount_nodes, percent_edges)\n",
    "matrix1 = graph1.add_edges(matrix1, edges1)\n",
    "list_edges = graph1.make_list_edges_distances(matrix1)\n",
    "netxgraph1 = graph1.build_networkx_graph(list_edges)"
   ]
  },
  {
   "cell_type": "code",
   "execution_count": 37,
   "metadata": {},
   "outputs": [],
   "source": [
    "human_matrix = graph1.create_matrix(56)"
   ]
  },
  {
   "cell_type": "code",
   "execution_count": null,
   "metadata": {},
   "outputs": [],
   "source": []
  },
  {
   "cell_type": "code",
   "execution_count": 17,
   "metadata": {},
   "outputs": [],
   "source": [
    "# matrix1"
   ]
  },
  {
   "cell_type": "code",
   "execution_count": 18,
   "metadata": {},
   "outputs": [],
   "source": [
    "# This initializes regular SOM grid matrix, it needs to be passes instead of matrix1 for it to work\n",
    "# Also one needs to experiment with sigma to achieve good results learning rate\n",
    "# matrix2 = graph1.standard_som_distance_matrix(length, width)\n",
    "# matrix2"
   ]
  },
  {
   "cell_type": "code",
   "execution_count": null,
   "metadata": {},
   "outputs": [],
   "source": []
  },
  {
   "cell_type": "code",
   "execution_count": 19,
   "metadata": {},
   "outputs": [
    {
     "name": "stdout",
     "output_type": "stream",
     "text": [
      "3\n",
      "15\n",
      "sigma:  tensor(0.6667)\n",
      "sigma2:  tensor(0.4444)\n"
     ]
    }
   ],
   "source": [
    "map1 = MapClass(data, length, width, learning_rate, number_epochs, matrix1,\n",
    "                sigma, data_lables, batch_size, shuffle, netxgraph1, special_shape_map)"
   ]
  },
  {
   "cell_type": "code",
   "execution_count": 20,
   "metadata": {},
   "outputs": [],
   "source": [
    "# ### Drawing configuration\n",
    "\n",
    "# drawtype=\"rbg\" tries to draw colors on map - needs an input data with 3 vectors\n",
    "\n",
    "# drawtype=\"black-white\" draws black-white\n",
    "# drawtype=\"networkx\" graph drawing using the networkx library\n",
    "# drawtype=\"None\" - default draws empty space\n",
    "\n",
    "# Also there is networkx graph drawing\n",
    "\n",
    "# labels=True or False draws labels on the map... labels are necessary...\n",
    "\n",
    "\n",
    "# draw_every_epoch=0 Don't draw anything\n",
    "# draw_every_epoch=10 draw every 10 epochs"
   ]
  },
  {
   "cell_type": "code",
   "execution_count": 21,
   "metadata": {},
   "outputs": [],
   "source": [
    "# map1.impact_matrix"
   ]
  },
  {
   "cell_type": "code",
   "execution_count": 22,
   "metadata": {},
   "outputs": [],
   "source": [
    "labels=True\n",
    "drawtype = \"rbg\""
   ]
  },
  {
   "cell_type": "code",
   "execution_count": 23,
   "metadata": {},
   "outputs": [],
   "source": [
    "# Going through a large cycle combining of number of iteration whole cycles\n",
    "\n",
    "map1.large_cycle(draw_every_epoch=100, drawtype=drawtype)"
   ]
  },
  {
   "cell_type": "code",
   "execution_count": 24,
   "metadata": {},
   "outputs": [
    {
     "name": "stdout",
     "output_type": "stream",
     "text": [
      "plot of state:  0\n"
     ]
    },
    {
     "data": {
      "image/png": "[encoded data removed]",
      "text/plain": [
       "<Figure size 900x600 with 1 Axes>"
      ]
     },
     "metadata": {
      "needs_background": "light"
     },
     "output_type": "display_data"
    },
    {
     "name": "stdout",
     "output_type": "stream",
     "text": [
      "plot of state:  1\n"
     ]
    },
    {
     "data": {
      "image/png": "[encoded data removed]",
      "text/plain": [
       "<Figure size 900x600 with 1 Axes>"
      ]
     },
     "metadata": {
      "needs_background": "light"
     },
     "output_type": "display_data"
    }
   ],
   "source": [
    "# Drawing all the history\n",
    "plt.rcParams['figure.dpi'] = 150\n",
    "map1.draw_all(drawtype, labels=labels)"
   ]
  },
  {
   "cell_type": "code",
   "execution_count": 31,
   "metadata": {},
   "outputs": [
    {
     "name": "stdout",
     "output_type": "stream",
     "text": [
      "0 0\n",
      "0 1\n",
      "0 2\n",
      "0 3\n",
      "adding : 3\n",
      "0 4\n",
      "0 5\n",
      "0 6\n",
      "1 0\n",
      "adding : 3\n",
      "1 1\n",
      "1 2\n",
      "adding : 1\n",
      "1 3\n",
      "1 4\n",
      "1 5\n",
      "1 6\n",
      "adding : 1\n",
      "2 0\n",
      "2 1\n",
      "2 2\n",
      "2 3\n",
      "adding : 2\n",
      "2 4\n",
      "2 5\n",
      "2 6\n",
      "adding : 2\n",
      "3 0\n",
      "3 1\n",
      "3 2\n",
      "3 3\n",
      "3 4\n",
      "3 5\n",
      "3 6\n",
      "4 0\n",
      "4 1\n",
      "4 2\n",
      "adding : 2\n",
      "4 3\n",
      "4 4\n",
      "4 5\n",
      "4 6\n",
      "5 0\n",
      "5 1\n",
      "5 2\n",
      "adding : 4\n",
      "5 3\n",
      "5 4\n",
      "adding : 1\n",
      "5 5\n",
      "5 6\n",
      "6 0\n",
      "6 1\n",
      "6 2\n",
      "adding : 4\n",
      "6 3\n",
      "6 4\n",
      "adding : 1\n",
      "6 5\n",
      "6 6\n",
      "7 0\n",
      "7 1\n",
      "7 2\n",
      "adding : 4\n",
      "7 3\n",
      "7 4\n",
      "adding : 1\n",
      "7 5\n",
      "7 6\n"
     ]
    }
   ],
   "source": [
    "list_zeros = []\n",
    "counter = 0\n",
    "for i in range(len(special_shape_map)):\n",
    "    for j in range(len(special_shape_map[i])):\n",
    "        print(i, j)\n",
    "        if special_shape_map[i][j] == 1:\n",
    "            if counter != 0:\n",
    "                list_zeros.append(counter)\n",
    "                print(\"adding :\", counter)\n",
    "            counter = 0\n",
    "        else:\n",
    "            counter += 1"
   ]
  },
  {
   "cell_type": "code",
   "execution_count": 25,
   "metadata": {},
   "outputs": [
    {
     "data": {
      "text/plain": [
       "[[10, 19, 12, 19, 12, 15, 23, 18, 24, 8, 17, 21, 22, 6, 16],\n",
       " [22, 3, 5, 24, 14, 16, 23, 1, 11, 8, 17, 17, 15, 2, 17]]"
      ]
     },
     "execution_count": 25,
     "metadata": {},
     "output_type": "execute_result"
    }
   ],
   "source": [
    "map1.history_classifications"
   ]
  },
  {
   "cell_type": "code",
   "execution_count": 39,
   "metadata": {},
   "outputs": [
    {
     "data": {
      "text/plain": [
       "[[0, 0, 0, 1, 0, 0, 0],\n",
       " [1, 0, 1, 1, 1, 0, 1],\n",
       " [1, 0, 0, 1, 0, 0, 1],\n",
       " [1, 1, 1, 1, 1, 1, 1],\n",
       " [0, 0, 1, 1, 1, 0, 0],\n",
       " [0, 0, 1, 0, 1, 0, 0],\n",
       " [0, 0, 1, 0, 1, 0, 0],\n",
       " [0, 0, 1, 0, 1, 0, 0]]"
      ]
     },
     "execution_count": 39,
     "metadata": {},
     "output_type": "execute_result"
    }
   ],
   "source": [
    "shape_map_human"
   ]
  },
  {
   "cell_type": "code",
   "execution_count": 223,
   "metadata": {},
   "outputs": [],
   "source": [
    "def look_around(location_vertical, location_horizontal, direction, map_):\n",
    "    print(location_vertical, location_horizontal)\n",
    "    search_ = search(location_vertical, location_horizontal, direction, map_)\n",
    "    if search_ != None and search_ != False :\n",
    "        print(\"search object :\", search_)\n",
    "        length = get_node(location_vertical * len(map_[0]) + location_horizontal, map_)\n",
    "#                         print(\"go_through_map\", i * len(map_[0]) + j)\n",
    "#                         print(length)\n",
    "#                         print(\"search: \", search_)\n",
    "        width = get_node(search_, map_)\n",
    "        print(\"go_through_map\", search_)\n",
    "#                         print(width)\n",
    "        graph1.add_edge(matrix_distances, length, width, 0.25)\n",
    "        if length != width:\n",
    "            print(\"adding edge \", length, width)"
   ]
  },
  {
   "cell_type": "code",
   "execution_count": 227,
   "metadata": {},
   "outputs": [
    {
     "name": "stdout",
     "output_type": "stream",
     "text": [
      "0 2\n"
     ]
    }
   ],
   "source": [
    "look_around(0, 2, \"r\", shape_map_human)"
   ]
  },
  {
   "cell_type": "code",
   "execution_count": null,
   "metadata": {},
   "outputs": [],
   "source": [
    "def look_around(map_, matrix_distances, matrix_distances):\n",
    "    directions = [\"l\", \"u\", \"r\", \"b\"]\n",
    "    \n",
    "    for i in range(len(shape_map_human)):\n",
    "        for j in range(len(shape_map_human[i])):\n",
    "            if map_[i][j] == 1:"
   ]
  },
  {
   "cell_type": "code",
   "execution_count": 262,
   "metadata": {},
   "outputs": [],
   "source": [
    "def look_around(location_vertical, location_horizontal, map_):\n",
    "    directions = [\"l\", \"u\", \"r\", \"b\"]\n",
    "    \n",
    "    for direction in directions:\n",
    "        search(location_vertical, location_horizontal, direction, map_)\n",
    "        \n",
    "                \n",
    "\n",
    "                    \n",
    "                    "
   ]
  },
  {
   "cell_type": "code",
   "execution_count": 269,
   "metadata": {},
   "outputs": [
    {
     "name": "stdout",
     "output_type": "stream",
     "text": [
      "on map to the direction l:  0\n",
      "on map to the direction u:  0\n",
      "on map to the direction b:  1\n",
      "searching bottom  20\n"
     ]
    }
   ],
   "source": [
    "look_around(1, 6, shape_map_human)"
   ]
  },
  {
   "cell_type": "code",
   "execution_count": null,
   "metadata": {},
   "outputs": [],
   "source": []
  },
  {
   "cell_type": "code",
   "execution_count": 257,
   "metadata": {},
   "outputs": [
    {
     "data": {
      "text/plain": [
       "False"
      ]
     },
     "execution_count": 257,
     "metadata": {},
     "output_type": "execute_result"
    }
   ],
   "source": [
    "search(7, 3, \"b\", shape_map_human)"
   ]
  },
  {
   "cell_type": "code",
   "execution_count": 258,
   "metadata": {},
   "outputs": [],
   "source": [
    "# given location on the map returns the node of the graph\n",
    "def get_node(location_map, map_):\n",
    "#     print(\"location map:\", location_map)\n",
    "    row = int(location_map / len(map_[0]))\n",
    "#     print(row)\n",
    "#     counter = 0\n",
    "    count = 0\n",
    "    for i in range(row+1):\n",
    "#         print(map_[i])\n",
    "#         counter = i * len(map[0])\n",
    "        if i == row:\n",
    "#             print(\"i\", i)\n",
    "#             print(\"row\", row)\n",
    "            count += map_[i][0:location_map-(row*len(map_[0]))].count(1)\n",
    "        else:\n",
    "#             print(\"else\")\n",
    "            count += map_[i].count(1)\n",
    "        print(count)\n",
    "    return count\n"
   ]
  },
  {
   "cell_type": "code",
   "execution_count": 203,
   "metadata": {},
   "outputs": [
    {
     "name": "stdout",
     "output_type": "stream",
     "text": [
      "location map: 11\n",
      "1\n",
      "[0, 0, 0, 1, 0, 0, 0]\n",
      "else\n",
      "1\n",
      "[1, 0, 1, 1, 1, 0, 1]\n",
      "i 1\n",
      "row 1\n",
      "4\n"
     ]
    },
    {
     "data": {
      "text/plain": [
       "4"
      ]
     },
     "execution_count": 203,
     "metadata": {},
     "output_type": "execute_result"
    }
   ],
   "source": [
    "get_node(11, shape_map_human)"
   ]
  },
  {
   "cell_type": "code",
   "execution_count": 65,
   "metadata": {},
   "outputs": [
    {
     "data": {
      "text/plain": [
       "True"
      ]
     },
     "execution_count": 65,
     "metadata": {},
     "output_type": "execute_result"
    }
   ],
   "source": [
    "search(3,1, \"r\", shape_map_human)"
   ]
  },
  {
   "cell_type": "code",
   "execution_count": 66,
   "metadata": {},
   "outputs": [],
   "source": [
    "go_through_map(shape_map_human)"
   ]
  },
  {
   "cell_type": "code",
   "execution_count": 212,
   "metadata": {},
   "outputs": [],
   "source": [
    "human_matrix = graph1.create_matrix(56)"
   ]
  },
  {
   "cell_type": "code",
   "execution_count": 217,
   "metadata": {},
   "outputs": [
    {
     "data": {
      "text/plain": [
       "tensor([[0.0000, 1.0000, 1.0000, 1.0000, 1.0000, 1.0000, 0.2500, 1.0000, 0.2500,\n",
       "         0.2500, 1.0000, 1.0000, 1.0000, 1.0000, 1.0000, 0.2500, 1.0000, 1.0000,\n",
       "         0.2500, 1.0000, 0.2500, 0.2500, 0.2500, 0.2500, 1.0000, 1.0000, 1.0000,\n",
       "         1.0000, 1.0000, 1.0000, 1.0000, 1.0000, 1.0000, 1.0000, 1.0000, 1.0000,\n",
       "         1.0000, 1.0000, 1.0000, 1.0000, 1.0000, 1.0000, 1.0000, 1.0000, 1.0000,\n",
       "         1.0000, 1.0000, 1.0000, 1.0000, 1.0000, 1.0000, 1.0000, 1.0000, 1.0000,\n",
       "         1.0000, 1.0000],\n",
       "        [1.0000, 0.0000, 1.0000, 0.2500, 1.0000, 1.0000, 1.0000, 0.2500, 1.0000,\n",
       "         1.0000, 1.0000, 1.0000, 0.2500, 1.0000, 1.0000, 1.0000, 0.2500, 1.0000,\n",
       "         1.0000, 1.0000, 1.0000, 1.0000, 1.0000, 1.0000, 0.2500, 1.0000, 1.0000,\n",
       "         1.0000, 1.0000, 1.0000, 1.0000, 1.0000, 1.0000, 1.0000, 1.0000, 1.0000,\n",
       "         1.0000, 1.0000, 1.0000, 1.0000, 1.0000, 1.0000, 1.0000, 1.0000, 1.0000,\n",
       "         1.0000, 1.0000, 1.0000, 1.0000, 1.0000, 1.0000, 1.0000, 1.0000, 1.0000,\n",
       "         1.0000, 1.0000],\n",
       "        [1.0000, 1.0000, 0.0000, 0.2500, 1.0000, 1.0000, 1.0000, 1.0000, 1.0000,\n",
       "         1.0000, 1.0000, 1.0000, 1.0000, 1.0000, 1.0000, 1.0000, 1.0000, 1.0000,\n",
       "         1.0000, 1.0000, 1.0000, 1.0000, 1.0000, 1.0000, 1.0000, 1.0000, 1.0000,\n",
       "         1.0000, 1.0000, 1.0000, 1.0000, 1.0000, 1.0000, 1.0000, 1.0000, 1.0000,\n",
       "         1.0000, 1.0000, 1.0000, 1.0000, 1.0000, 1.0000, 1.0000, 1.0000, 1.0000,\n",
       "         1.0000, 1.0000, 1.0000, 1.0000, 1.0000, 1.0000, 1.0000, 1.0000, 1.0000,\n",
       "         1.0000, 1.0000],\n",
       "        [1.0000, 0.2500, 0.2500, 0.0000, 0.2500, 1.0000, 1.0000, 1.0000, 1.0000,\n",
       "         1.0000, 1.0000, 1.0000, 1.0000, 1.0000, 1.0000, 1.0000, 1.0000, 1.0000,\n",
       "         1.0000, 1.0000, 1.0000, 1.0000, 1.0000, 1.0000, 1.0000, 1.0000, 1.0000,\n",
       "         1.0000, 1.0000, 1.0000, 1.0000, 1.0000, 1.0000, 1.0000, 1.0000, 1.0000,\n",
       "         1.0000, 1.0000, 1.0000, 1.0000, 1.0000, 1.0000, 1.0000, 1.0000, 1.0000,\n",
       "         1.0000, 1.0000, 1.0000, 1.0000, 1.0000, 1.0000, 1.0000, 1.0000, 1.0000,\n",
       "         1.0000, 1.0000],\n",
       "        [1.0000, 1.0000, 1.0000, 0.2500, 0.0000, 1.0000, 1.0000, 1.0000, 1.0000,\n",
       "         1.0000, 1.0000, 1.0000, 1.0000, 1.0000, 1.0000, 1.0000, 1.0000, 1.0000,\n",
       "         1.0000, 1.0000, 1.0000, 1.0000, 1.0000, 1.0000, 1.0000, 1.0000, 1.0000,\n",
       "         1.0000, 1.0000, 1.0000, 1.0000, 1.0000, 1.0000, 1.0000, 1.0000, 1.0000,\n",
       "         1.0000, 1.0000, 1.0000, 1.0000, 1.0000, 1.0000, 1.0000, 1.0000, 1.0000,\n",
       "         1.0000, 1.0000, 1.0000, 1.0000, 1.0000, 1.0000, 1.0000, 1.0000, 1.0000,\n",
       "         1.0000, 1.0000]])"
      ]
     },
     "execution_count": 217,
     "metadata": {},
     "output_type": "execute_result"
    }
   ],
   "source": [
    "human_matrix[0:5]"
   ]
  },
  {
   "cell_type": "code",
   "execution_count": 259,
   "metadata": {},
   "outputs": [],
   "source": [
    "# go_through_map(shape_map_human, human_matrix)"
   ]
  },
  {
   "cell_type": "code",
   "execution_count": 260,
   "metadata": {},
   "outputs": [],
   "source": [
    "# human_matrix[0:5]"
   ]
  },
  {
   "cell_type": "code",
   "execution_count": null,
   "metadata": {},
   "outputs": [],
   "source": []
  }
 ],
 "metadata": {
  "jupytext": {
   "formats": "ipynb,py:light"
  },
  "kernelspec": {
   "display_name": "Python 3",
   "language": "python",
   "name": "python3"
  },
  "language_info": {
   "codemirror_mode": {
    "name": "ipython",
    "version": 3
   },
   "file_extension": ".py",
   "mimetype": "text/x-python",
   "name": "python",
   "nbconvert_exporter": "python",
   "pygments_lexer": "ipython3",
   "version": "3.7.3"
  }
 },
 "nbformat": 4,
 "nbformat_minor": 2
}
